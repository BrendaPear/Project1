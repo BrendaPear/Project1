{
  "nbformat": 4,
  "nbformat_minor": 0,
  "metadata": {
    "colab": {
      "name": "challenge_AML_with_DataAugmentation.ipynb",
      "provenance": [],
      "collapsed_sections": []
    },
    "kernelspec": {
      "name": "python3",
      "display_name": "Python 3"
    },
    "language_info": {
      "name": "python"
    },
    "accelerator": "GPU"
  },
  "cells": [
    {
      "cell_type": "code",
      "metadata": {
        "id": "TIUSXffrEc_Q"
      },
      "source": [
        "import numpy as np\n",
        "from numpy.linalg import norm\n",
        "import pickle\n",
        "from tqdm import tqdm, tqdm_notebook\n",
        "import os\n",
        "import random\n",
        "import time\n",
        "import math\n",
        "import tensorflow\n",
        "from tensorflow.keras.preprocessing import image\n",
        "from tensorflow.keras.preprocessing.image import ImageDataGenerator\n",
        "from tensorflow.keras.applications.resnet50 import ResNet50, preprocess_input\n",
        "from tensorflow.keras.applications.vgg16 import VGG16\n",
        "from tensorflow.keras.applications.vgg19 import VGG19\n",
        "from tensorflow.keras.applications.mobilenet import MobileNet\n",
        "from tensorflow.keras.applications.inception_v3 import InceptionV3\n",
        "from tensorflow.keras.models import Model\n",
        "from tensorflow.keras.layers import Input, Flatten, Dense, Dropout, GlobalAveragePooling2D\n"
      ],
      "execution_count": null,
      "outputs": []
    },
    {
      "cell_type": "code",
      "metadata": {
        "colab": {
          "base_uri": "https://localhost:8080/"
        },
        "id": "vWD055ikV8Uw",
        "outputId": "ce2704e0-5a99-40a7-bfd6-3ec8a54c6660"
      },
      "source": [
        "%tensorflow_version 2.x\n",
        "import tensorflow as tf\n",
        "device_name = tf.test.gpu_device_name()\n",
        "if device_name != '/device:GPU:0':\n",
        "  raise SystemError('GPU device not found')\n",
        "print('Found GPU at: {}'.format(device_name))"
      ],
      "execution_count": null,
      "outputs": [
        {
          "output_type": "stream",
          "name": "stdout",
          "text": [
            "Found GPU at: /device:GPU:0\n"
          ]
        }
      ]
    },
    {
      "cell_type": "code",
      "metadata": {
        "colab": {
          "base_uri": "https://localhost:8080/"
        },
        "id": "8mhy0pF9Eq3D",
        "outputId": "82760c57-fb65-45ea-ca18-00f9da9d0d84"
      },
      "source": [
        "import sys \n",
        "from google.colab import drive \n",
        "import glob\n",
        "\n",
        "path = \"/content/drive\" \n",
        "drive.mount(path, force_remount=True)  \n",
        "data_path = \"drive/MyDrive/dataset\" \n",
        "\n",
        "myfiles = glob.glob(os.path.join(data_path, '*')) \n",
        "print(myfiles)\n"
      ],
      "execution_count": null,
      "outputs": [
        {
          "output_type": "stream",
          "name": "stdout",
          "text": [
            "Mounted at /content/drive\n",
            "['drive/MyDrive/dataset/training', 'drive/MyDrive/dataset/validation']\n"
          ]
        }
      ]
    },
    {
      "cell_type": "code",
      "metadata": {
        "colab": {
          "base_uri": "https://localhost:8080/"
        },
        "id": "x5H0E3F-GWBb",
        "outputId": "e369fd04-f3e4-4dec-9823-145be36b8f56"
      },
      "source": [
        "class Dataset(object):\n",
        "    def __init__(self, data_path):\n",
        "        self.data_path = data_path\n",
        "        assert os.path.exists(self.data_path)  , 'Insert a valid path!'\n",
        "\n",
        "        # get class list\n",
        "        self.data_classes = os.listdir(self.data_path)\n",
        "\n",
        "        # init mapping dict\n",
        "        self.data_mapping = {}\n",
        "\n",
        "        # populate mapping dict\n",
        "        for c, c_name in enumerate(self.data_classes):\n",
        "            temp_path = os.path.join(self.data_path, c_name)\n",
        "            temp_images = os.listdir(temp_path)\n",
        "\n",
        "            for i in temp_images:\n",
        "                img_tmp = os.path.join(temp_path, i)\n",
        "\n",
        "                if img_tmp.endswith('.jpg'):\n",
        "                    if c_name == 'distractor':\n",
        "                        self.data_mapping[img_tmp] = -1\n",
        "                    else:\n",
        "                        self.data_mapping[img_tmp] = int(c_name)\n",
        "\n",
        "        print('Loaded {:d} from {:s} images'.format(len(self.data_mapping.keys()),\n",
        "                                                    self.data_path))\n",
        "\n",
        "    def get_data_paths(self):\n",
        "        # returns a list of imgpaths and related classes\n",
        "        images = []\n",
        "        classes = []\n",
        "        for img_path in self.data_mapping.keys():\n",
        "            if img_path.endswith('.jpg'):\n",
        "                images.append(img_path)\n",
        "                classes.append(self.data_mapping[img_path])\n",
        "        return images, np.array(classes)\n",
        "\n",
        "\n",
        "    def num_classes(self):\n",
        "        # returns number of classes of the dataset\n",
        "        return len(self.data_classes)\n",
        "\n",
        "\n",
        "\n",
        "\n",
        "#dataset folder with inside two folders: training and validation\n",
        "\n",
        "validation_path = os.path.join(data_path, 'validation')\n",
        "gallery_path = os.path.join(validation_path, 'gallery')\n",
        "query_path = os.path.join(validation_path, 'query')\n",
        "training_path = os.path.join(data_path, \"training\") \n",
        "\n",
        "training_dataset = Dataset(data_path = training_path)\n",
        "gallery_dataset = Dataset(data_path=gallery_path)\n",
        "query_dataset = Dataset(data_path=query_path)\n",
        "\n",
        "# get training data and classes\n",
        "training_paths, training_classes = training_dataset.get_data_paths()\n",
        "\n",
        "# we get validation gallery and query data\n",
        "gallery_paths, gallery_classes = gallery_dataset.get_data_paths()\n",
        "query_paths, query_classes = query_dataset.get_data_paths()\n"
      ],
      "execution_count": null,
      "outputs": [
        {
          "output_type": "stream",
          "name": "stdout",
          "text": [
            "Loaded 697 from drive/MyDrive/dataset/training images\n",
            "Loaded 534 from drive/MyDrive/dataset/validation/gallery images\n",
            "Loaded 70 from drive/MyDrive/dataset/validation/query images\n"
          ]
        }
      ]
    },
    {
      "cell_type": "code",
      "metadata": {
        "id": "rPD9K5QhFDGX",
        "colab": {
          "base_uri": "https://localhost:8080/"
        },
        "outputId": "0ada9308-b65f-45be-e059-2a2d78e2a900"
      },
      "source": [
        "#Convolutional Neural Network with 152 layers (uses identity connection to skip layers if needed)\n",
        "model=ResNet50(weights='imagenet',\n",
        "                          include_top=False, #to include the fully-connected layer at the top of the network; might try with True (delate input_shape if True)\n",
        "                         input_shape=(224, 224, 3),\n",
        "                        pooling='max') #global max pooling, may also try 'avg'"
      ],
      "execution_count": null,
      "outputs": [
        {
          "output_type": "stream",
          "name": "stdout",
          "text": [
            "Downloading data from https://storage.googleapis.com/tensorflow/keras-applications/resnet/resnet50_weights_tf_dim_ordering_tf_kernels_notop.h5\n",
            "94773248/94765736 [==============================] - 1s 0us/step\n",
            "94781440/94765736 [==============================] - 1s 0us/step\n"
          ]
        }
      ]
    },
    {
      "cell_type": "code",
      "metadata": {
        "id": "R5UunbofWG4D"
      },
      "source": [
        "#keras models:\n",
        "#https://keras.io/api/applications/\n",
        "\n",
        "#explaining features extracture with keras:\n",
        "#https://franky07724-57962.medium.com/using-keras-pre-trained-models-for-feature-extraction-in-image-clustering-a142c6cdf5b1"
      ],
      "execution_count": null,
      "outputs": []
    },
    {
      "cell_type": "code",
      "metadata": {
        "colab": {
          "base_uri": "https://localhost:8080/",
          "height": 72
        },
        "id": "CDZ4886d4eo4",
        "outputId": "029f1207-46ba-44eb-b650-ce231f72abae"
      },
      "source": [
        "#DATA AUGMENTATION to expand the input dataset and perform modification to the imgages, such as rotations, zoom in, cuts…\n",
        "from tensorflow.keras.preprocessing.image import ImageDataGenerator\n",
        "#keras command explanation: https://keras.io/api/preprocessing/image/\n",
        "datagen = ImageDataGenerator(\n",
        "    featurewise_center=False, #set input mean to zero if True\n",
        "    samplewise_center=True, #set each sample mean to zero\n",
        "    featurewise_std_normalization=False, #divide inputs by sd of the dataset\n",
        "    samplewise_std_normalization=True, #divide each input by its sd \n",
        "    \n",
        "    rotation_range=20, #degree range for random rotation\n",
        "    width_shift_range=0.3, #range as a fraction of total width within which to randomly translate pictures vertically \n",
        "    height_shift_range=0.3, #ranges as a fraction of tot height within which to randomly translate pictures horizontally\n",
        "    brightness_range=None,\n",
        "    shear_range=0.0,\n",
        "    zoom_range=0.0,\n",
        "    channel_shift_range=0.0,\n",
        "    fill_mode=\"nearest\",\n",
        "    cval=0.0,\n",
        "    horizontal_flip=True, #randomly flip inputs horizontally\n",
        "    vertical_flip=True, #randomly flip inputs vertically\n",
        "    rescale=None, #all data are multiplied by specified value if given\n",
        "    preprocessing_function=None, #after the img is resized and augmented (input must be np tensor with rank 3)\n",
        "    data_format=None,\n",
        "    validation_split=0.0, #between 0-1\n",
        "    dtype=None, #for the generated arrays\n",
        ")\n",
        "\n",
        "\n",
        "\n",
        "\n",
        "\n",
        "\n",
        "\n",
        "\n",
        "'''\n",
        "#flow_from_directory takes the path to a directory & generates batches of augmented data\n",
        "aug_train_img_and_label = datagen.flow_from_directory(\n",
        "    training_path,\n",
        "    target_size=(224, 224), \n",
        "    color_mode=\"rgb\",\n",
        "    classes=None,\n",
        "    class_mode=\"categorical\",\n",
        "    batch_size=32,\n",
        "    shuffle=True,\n",
        "    seed=None,\n",
        "    save_to_dir=None,\n",
        "    save_prefix=\"\",\n",
        "    save_format=\"png\",\n",
        "    follow_links=False,\n",
        "    subset=None,\n",
        "    interpolation=\"nearest\",\n",
        ")\n",
        "'''\n",
        "#basically modifies images \n",
        "#datagen.fit(training_paths) -> takes 3D array -> put into features_extraction function"
      ],
      "execution_count": null,
      "outputs": [
        {
          "output_type": "execute_result",
          "data": {
            "text/plain": [
              "'\\n#flow_from_directory takes the path to a directory & generates batches of augmented data\\naug_train_img_and_label = datagen.flow_from_directory(\\n    training_path,\\n    target_size=(224, 224), \\n    color_mode=\"rgb\",\\n    classes=None,\\n    class_mode=\"categorical\",\\n    batch_size=32,\\n    shuffle=True,\\n    seed=None,\\n    save_to_dir=None,\\n    save_prefix=\"\",\\n    save_format=\"png\",\\n    follow_links=False,\\n    subset=None,\\n    interpolation=\"nearest\",\\n)\\n'"
            ],
            "application/vnd.google.colaboratory.intrinsic+json": {
              "type": "string"
            }
          },
          "metadata": {},
          "execution_count": 8
        }
      ]
    },
    {
      "cell_type": "code",
      "metadata": {
        "id": "kFEjWsPMFfbD"
      },
      "source": [
        "def extract_features(training_paths, model):\n",
        "    input_shape = (224, 224, 3) #this shape is standard in the karas models for neaural network\n",
        "    nf=[]\n",
        "    for n in range(len(training_paths)):\n",
        "      img = image.load_img(training_paths[n],\n",
        "                          target_size=(input_shape[0], input_shape[1]))\n",
        "      img_array = image.img_to_array(img) #convert images in 3D arrays authomatically -> must use flatten() to push it into one dimension\n",
        "      expanded_img_array = np.expand_dims(img_array, axis=0) #img_array has shape (None, 3) now; the first dimension need to be added through this command (tf)\n",
        "      preprocessed_img = preprocess_input(expanded_img_array) #images are converted from RGB to BGR (tf)\n",
        "       \n",
        "     \n",
        "\n",
        "      if n==1:\n",
        "        print(preprocessed_img)\n",
        "      \n",
        "      \n",
        "      i = 0\n",
        "      for batch in datagen.flow(preprocessed_img, batch_size=16,\n",
        "                          save_to_dir='drive/MyDrive/dataset/training/augmented',\n",
        "                          save_prefix='aug',\n",
        "                          save_format='png'):    \n",
        "        i += 1    \n",
        "        if i > 20:  #20 image (\"epochs\")      \n",
        "          break\n",
        "\n",
        "      if n==1:\n",
        "        print(preprocessed_img)\n",
        "      \n",
        "\n",
        "      features = model.predict(preprocessed_img) #extract features from the images\n",
        "      flattened_features = features.flatten() #collapse array into one dimension\n",
        "      \n",
        "      normalized_features = flattened_features / norm(flattened_features) #normalize\n",
        "      nf.append(normalized_features)\n",
        "    return nf"
      ],
      "execution_count": null,
      "outputs": []
    },
    {
      "cell_type": "code",
      "metadata": {
        "id": "bwEFlUBHGDxZ",
        "colab": {
          "base_uri": "https://localhost:8080/"
        },
        "outputId": "bea87da5-8ef5-41d0-f0ca-1a9b9248135a"
      },
      "source": [
        "feat = extract_features(training_paths, model) #this takes 14 mins to run"
      ],
      "execution_count": null,
      "outputs": [
        {
          "output_type": "stream",
          "name": "stdout",
          "text": [
            "[[[[  24.060997    10.221001     5.3199997]\n",
            "   [  20.060997    10.221001     7.3199997]\n",
            "   [  21.060997     9.221001     6.3199997]\n",
            "   ...\n",
            "   [ 110.061      116.221      117.32     ]\n",
            "   [ 119.061      116.221      127.32     ]\n",
            "   [  72.061       69.221       79.32     ]]\n",
            "\n",
            "  [[  28.060997    11.221001     9.32     ]\n",
            "   [  26.060997    14.221001    11.32     ]\n",
            "   [  24.060997    16.221        7.3199997]\n",
            "   ...\n",
            "   [ 111.061      120.221      124.32     ]\n",
            "   [ 111.061      116.221      110.32     ]\n",
            "   [ 118.061      124.221      122.32     ]]\n",
            "\n",
            "  [[  85.061       79.221       91.32     ]\n",
            "   [  62.060997    54.221       68.32     ]\n",
            "   [  45.060997    29.221       44.32     ]\n",
            "   ...\n",
            "   [ 104.061      114.221      109.32     ]\n",
            "   [ 111.061      117.221      115.32     ]\n",
            "   [ 113.061      119.221      119.32     ]]\n",
            "\n",
            "  ...\n",
            "\n",
            "  [[ -74.939      -48.779     -117.68     ]\n",
            "   [ -70.939      -40.779     -122.68     ]\n",
            "   [ -70.939      -39.779     -123.68     ]\n",
            "   ...\n",
            "   [  17.060997    -4.7789993  -25.68     ]\n",
            "   [  12.060997   -11.778999   -22.68     ]\n",
            "   [  18.060997    -8.778999   -21.68     ]]\n",
            "\n",
            "  [[ -77.939      -57.779     -121.68     ]\n",
            "   [ -81.939      -58.779     -123.68     ]\n",
            "   [ -74.939      -45.779     -123.68     ]\n",
            "   ...\n",
            "   [  23.060997    -3.7789993  -22.68     ]\n",
            "   [  24.060997    -0.7789993  -17.68     ]\n",
            "   [  21.060997    -3.7789993  -20.68     ]]\n",
            "\n",
            "  [[ -76.939      -56.779     -120.68     ]\n",
            "   [ -75.939      -48.779     -120.68     ]\n",
            "   [ -79.939      -53.779     -122.68     ]\n",
            "   ...\n",
            "   [  27.060997    -1.7789993  -21.68     ]\n",
            "   [  22.060997    -2.7789993  -21.68     ]\n",
            "   [  19.060997    -2.7789993  -23.68     ]]]]\n",
            "[[[[  24.060997    10.221001     5.3199997]\n",
            "   [  20.060997    10.221001     7.3199997]\n",
            "   [  21.060997     9.221001     6.3199997]\n",
            "   ...\n",
            "   [ 110.061      116.221      117.32     ]\n",
            "   [ 119.061      116.221      127.32     ]\n",
            "   [  72.061       69.221       79.32     ]]\n",
            "\n",
            "  [[  28.060997    11.221001     9.32     ]\n",
            "   [  26.060997    14.221001    11.32     ]\n",
            "   [  24.060997    16.221        7.3199997]\n",
            "   ...\n",
            "   [ 111.061      120.221      124.32     ]\n",
            "   [ 111.061      116.221      110.32     ]\n",
            "   [ 118.061      124.221      122.32     ]]\n",
            "\n",
            "  [[  85.061       79.221       91.32     ]\n",
            "   [  62.060997    54.221       68.32     ]\n",
            "   [  45.060997    29.221       44.32     ]\n",
            "   ...\n",
            "   [ 104.061      114.221      109.32     ]\n",
            "   [ 111.061      117.221      115.32     ]\n",
            "   [ 113.061      119.221      119.32     ]]\n",
            "\n",
            "  ...\n",
            "\n",
            "  [[ -74.939      -48.779     -117.68     ]\n",
            "   [ -70.939      -40.779     -122.68     ]\n",
            "   [ -70.939      -39.779     -123.68     ]\n",
            "   ...\n",
            "   [  17.060997    -4.7789993  -25.68     ]\n",
            "   [  12.060997   -11.778999   -22.68     ]\n",
            "   [  18.060997    -8.778999   -21.68     ]]\n",
            "\n",
            "  [[ -77.939      -57.779     -121.68     ]\n",
            "   [ -81.939      -58.779     -123.68     ]\n",
            "   [ -74.939      -45.779     -123.68     ]\n",
            "   ...\n",
            "   [  23.060997    -3.7789993  -22.68     ]\n",
            "   [  24.060997    -0.7789993  -17.68     ]\n",
            "   [  21.060997    -3.7789993  -20.68     ]]\n",
            "\n",
            "  [[ -76.939      -56.779     -120.68     ]\n",
            "   [ -75.939      -48.779     -120.68     ]\n",
            "   [ -79.939      -53.779     -122.68     ]\n",
            "   ...\n",
            "   [  27.060997    -1.7789993  -21.68     ]\n",
            "   [  22.060997    -2.7789993  -21.68     ]\n",
            "   [  19.060997    -2.7789993  -23.68     ]]]]\n"
          ]
        }
      ]
    },
    {
      "cell_type": "code",
      "metadata": {
        "colab": {
          "base_uri": "https://localhost:8080/"
        },
        "id": "C4FZ-OwyIKoH",
        "outputId": "34964a30-b56a-4bca-fc54-5c33a531f91c"
      },
      "source": [
        "print(len(feat))\n",
        "#%timeit feat = extract_features(training_paths, model)"
      ],
      "execution_count": null,
      "outputs": [
        {
          "output_type": "stream",
          "name": "stdout",
          "text": [
            "697\n"
          ]
        }
      ]
    },
    {
      "cell_type": "code",
      "metadata": {
        "colab": {
          "base_uri": "https://localhost:8080/"
        },
        "id": "Zw3h37SaIOr2",
        "outputId": "2150cce7-6a19-4bf9-ac58-ab84dd3ba273"
      },
      "source": [
        "query_paths[:3]"
      ],
      "execution_count": null,
      "outputs": [
        {
          "output_type": "execute_result",
          "data": {
            "text/plain": [
              "['drive/MyDrive/dataset/validation/query/10/ec50k_00100006.jpg',\n",
              " 'drive/MyDrive/dataset/validation/query/10/ec50k_00100015.jpg',\n",
              " 'drive/MyDrive/dataset/validation/query/10/ec50k_00100026.jpg']"
            ]
          },
          "metadata": {},
          "execution_count": 12
        }
      ]
    },
    {
      "cell_type": "code",
      "metadata": {
        "id": "xyFc-_vyOFhG",
        "colab": {
          "base_uri": "https://localhost:8080/"
        },
        "outputId": "16e479d5-50e5-489c-9a50-a6b99464f7a6"
      },
      "source": [
        "#running this cell takes 12 mins\n",
        "\n",
        "#normalized query features\n",
        "query_features = extract_features(query_paths, model)\n",
        "\n",
        "#normalized gallery features\n",
        "gallery_features = extract_features(gallery_paths, model)\n"
      ],
      "execution_count": null,
      "outputs": [
        {
          "output_type": "stream",
          "name": "stdout",
          "text": [
            "[[[[134.061      121.221      114.32      ]\n",
            "   [133.061      120.221      113.32      ]\n",
            "   [136.061      121.221      113.32      ]\n",
            "   ...\n",
            "   [-60.939003   -63.779      -76.68      ]\n",
            "   [-41.939003   -49.779      -55.68      ]\n",
            "   [-51.939003   -59.779      -65.68      ]]\n",
            "\n",
            "  [[134.061      121.221      114.32      ]\n",
            "   [134.061      121.221      114.32      ]\n",
            "   [134.061      122.221      113.32      ]\n",
            "   ...\n",
            "   [-66.939      -77.779      -84.68      ]\n",
            "   [-65.939      -71.779      -75.68      ]\n",
            "   [-42.939003   -44.779      -53.68      ]]\n",
            "\n",
            "  [[134.061      122.221      113.32      ]\n",
            "   [134.061      121.221      114.32      ]\n",
            "   [134.061      121.221      114.32      ]\n",
            "   ...\n",
            "   [-60.939003   -68.779      -72.68      ]\n",
            "   [-69.939      -80.779      -77.68      ]\n",
            "   [-66.939      -72.779      -76.68      ]]\n",
            "\n",
            "  ...\n",
            "\n",
            "  [[  1.060997    -1.7789993    1.3199997 ]\n",
            "   [-10.939003   -18.779      -16.68      ]\n",
            "   [-16.939003   -13.778999   -14.68      ]\n",
            "   ...\n",
            "   [-13.939003   -10.778999   -28.68      ]\n",
            "   [  5.060997    -0.7789993  -10.68      ]\n",
            "   [ 14.060997     9.221001     1.3199997 ]]\n",
            "\n",
            "  [[-10.939003   -13.778999   -10.68      ]\n",
            "   [ -7.939003    -9.778999   -12.68      ]\n",
            "   [ -2.939003     0.22100067  -7.6800003 ]\n",
            "   ...\n",
            "   [ -5.939003    -3.7789993  -24.68      ]\n",
            "   [ 14.060997     3.2210007   -2.6800003 ]\n",
            "   [ 21.060997    12.221001     6.3199997 ]]\n",
            "\n",
            "  [[  9.060997     7.2210007    8.32      ]\n",
            "   [ -0.939003     0.22100067  -0.6800003 ]\n",
            "   [-15.939003   -17.779      -20.68      ]\n",
            "   ...\n",
            "   [-27.939003   -24.779      -38.68      ]\n",
            "   [  3.060997    -7.7789993  -13.68      ]\n",
            "   [ 11.060997     4.2210007   -3.6800003 ]]]]\n",
            "[[[[134.061      121.221      114.32      ]\n",
            "   [133.061      120.221      113.32      ]\n",
            "   [136.061      121.221      113.32      ]\n",
            "   ...\n",
            "   [-60.939003   -63.779      -76.68      ]\n",
            "   [-41.939003   -49.779      -55.68      ]\n",
            "   [-51.939003   -59.779      -65.68      ]]\n",
            "\n",
            "  [[134.061      121.221      114.32      ]\n",
            "   [134.061      121.221      114.32      ]\n",
            "   [134.061      122.221      113.32      ]\n",
            "   ...\n",
            "   [-66.939      -77.779      -84.68      ]\n",
            "   [-65.939      -71.779      -75.68      ]\n",
            "   [-42.939003   -44.779      -53.68      ]]\n",
            "\n",
            "  [[134.061      122.221      113.32      ]\n",
            "   [134.061      121.221      114.32      ]\n",
            "   [134.061      121.221      114.32      ]\n",
            "   ...\n",
            "   [-60.939003   -68.779      -72.68      ]\n",
            "   [-69.939      -80.779      -77.68      ]\n",
            "   [-66.939      -72.779      -76.68      ]]\n",
            "\n",
            "  ...\n",
            "\n",
            "  [[  1.060997    -1.7789993    1.3199997 ]\n",
            "   [-10.939003   -18.779      -16.68      ]\n",
            "   [-16.939003   -13.778999   -14.68      ]\n",
            "   ...\n",
            "   [-13.939003   -10.778999   -28.68      ]\n",
            "   [  5.060997    -0.7789993  -10.68      ]\n",
            "   [ 14.060997     9.221001     1.3199997 ]]\n",
            "\n",
            "  [[-10.939003   -13.778999   -10.68      ]\n",
            "   [ -7.939003    -9.778999   -12.68      ]\n",
            "   [ -2.939003     0.22100067  -7.6800003 ]\n",
            "   ...\n",
            "   [ -5.939003    -3.7789993  -24.68      ]\n",
            "   [ 14.060997     3.2210007   -2.6800003 ]\n",
            "   [ 21.060997    12.221001     6.3199997 ]]\n",
            "\n",
            "  [[  9.060997     7.2210007    8.32      ]\n",
            "   [ -0.939003     0.22100067  -0.6800003 ]\n",
            "   [-15.939003   -17.779      -20.68      ]\n",
            "   ...\n",
            "   [-27.939003   -24.779      -38.68      ]\n",
            "   [  3.060997    -7.7789993  -13.68      ]\n",
            "   [ 11.060997     4.2210007   -3.6800003 ]]]]\n",
            "[[[[-26.939003    7.2210007  38.32     ]\n",
            "   [-46.939003  -17.779      10.32     ]\n",
            "   [-43.939003  -16.779      11.32     ]\n",
            "   ...\n",
            "   [-94.939     -80.779     -77.68     ]\n",
            "   [-79.939     -60.779     -54.68     ]\n",
            "   [-88.939     -67.779     -51.68     ]]\n",
            "\n",
            "  [[ -9.939003   20.221      46.32     ]\n",
            "   [-44.939003  -18.779       6.3199997]\n",
            "   [-77.939     -53.779     -26.68     ]\n",
            "   ...\n",
            "   [-76.939     -69.779     -65.68     ]\n",
            "   [-63.939003  -49.779     -42.68     ]\n",
            "   [-73.939     -54.779     -42.68     ]]\n",
            "\n",
            "  [[  8.060997   24.221      56.32     ]\n",
            "   [-19.939003   -8.778999   20.32     ]\n",
            "   [ 10.060997   22.221      49.32     ]\n",
            "   ...\n",
            "   [-85.939     -76.779     -71.68     ]\n",
            "   [-55.939003  -39.779     -31.68     ]\n",
            "   [-65.939     -43.779     -37.68     ]]\n",
            "\n",
            "  ...\n",
            "\n",
            "  [[ 28.060997   28.221      29.32     ]\n",
            "   [ 29.060997   29.221      30.32     ]\n",
            "   [ 31.060997   29.221      30.32     ]\n",
            "   ...\n",
            "   [ 40.060997   36.221      39.32     ]\n",
            "   [ 47.060997   43.221      45.32     ]\n",
            "   [ 35.060997   32.221      32.32     ]]\n",
            "\n",
            "  [[ 25.060997   21.221      24.32     ]\n",
            "   [ 31.060997   29.221      30.32     ]\n",
            "   [ 27.060997   28.221      27.32     ]\n",
            "   ...\n",
            "   [ 44.060997   40.221      43.32     ]\n",
            "   [ 39.060997   37.221      38.32     ]\n",
            "   [ 37.060997   38.221      37.32     ]]\n",
            "\n",
            "  [[ 20.060997   16.221      19.32     ]\n",
            "   [ 29.060997   27.221      28.32     ]\n",
            "   [ 28.060997   29.221      28.32     ]\n",
            "   ...\n",
            "   [ 47.060997   43.221      46.32     ]\n",
            "   [ 43.060997   41.221      42.32     ]\n",
            "   [ 49.060997   50.221      49.32     ]]]]\n",
            "[[[[-26.939003    7.2210007  38.32     ]\n",
            "   [-46.939003  -17.779      10.32     ]\n",
            "   [-43.939003  -16.779      11.32     ]\n",
            "   ...\n",
            "   [-94.939     -80.779     -77.68     ]\n",
            "   [-79.939     -60.779     -54.68     ]\n",
            "   [-88.939     -67.779     -51.68     ]]\n",
            "\n",
            "  [[ -9.939003   20.221      46.32     ]\n",
            "   [-44.939003  -18.779       6.3199997]\n",
            "   [-77.939     -53.779     -26.68     ]\n",
            "   ...\n",
            "   [-76.939     -69.779     -65.68     ]\n",
            "   [-63.939003  -49.779     -42.68     ]\n",
            "   [-73.939     -54.779     -42.68     ]]\n",
            "\n",
            "  [[  8.060997   24.221      56.32     ]\n",
            "   [-19.939003   -8.778999   20.32     ]\n",
            "   [ 10.060997   22.221      49.32     ]\n",
            "   ...\n",
            "   [-85.939     -76.779     -71.68     ]\n",
            "   [-55.939003  -39.779     -31.68     ]\n",
            "   [-65.939     -43.779     -37.68     ]]\n",
            "\n",
            "  ...\n",
            "\n",
            "  [[ 28.060997   28.221      29.32     ]\n",
            "   [ 29.060997   29.221      30.32     ]\n",
            "   [ 31.060997   29.221      30.32     ]\n",
            "   ...\n",
            "   [ 40.060997   36.221      39.32     ]\n",
            "   [ 47.060997   43.221      45.32     ]\n",
            "   [ 35.060997   32.221      32.32     ]]\n",
            "\n",
            "  [[ 25.060997   21.221      24.32     ]\n",
            "   [ 31.060997   29.221      30.32     ]\n",
            "   [ 27.060997   28.221      27.32     ]\n",
            "   ...\n",
            "   [ 44.060997   40.221      43.32     ]\n",
            "   [ 39.060997   37.221      38.32     ]\n",
            "   [ 37.060997   38.221      37.32     ]]\n",
            "\n",
            "  [[ 20.060997   16.221      19.32     ]\n",
            "   [ 29.060997   27.221      28.32     ]\n",
            "   [ 28.060997   29.221      28.32     ]\n",
            "   ...\n",
            "   [ 47.060997   43.221      46.32     ]\n",
            "   [ 43.060997   41.221      42.32     ]\n",
            "   [ 49.060997   50.221      49.32     ]]]]\n"
          ]
        }
      ]
    },
    {
      "cell_type": "code",
      "metadata": {
        "colab": {
          "base_uri": "https://localhost:8080/"
        },
        "id": "m9bbpIgWRgho",
        "outputId": "118a3352-90e8-4b2c-9ee3-4d66e83e0600"
      },
      "source": [
        "print(feat[1], '\\n', query_features[1])"
      ],
      "execution_count": null,
      "outputs": [
        {
          "output_type": "stream",
          "name": "stdout",
          "text": [
            "[0.01268663 0.03560868 0.00432727 ... 0.         0.01809936 0.00509381] \n",
            " [0.01924371 0.01562803 0.00839357 ... 0.04173271 0.01601842 0.0043832 ]\n"
          ]
        }
      ]
    },
    {
      "cell_type": "code",
      "metadata": {
        "id": "elub4arQKLPJ"
      },
      "source": [
        "def match_img(query_img_feat):\n",
        "  distance = np.linalg.norm(gallery_features - query_img_feat, axis=1) #vectorial distance\n",
        "  ids = np.argsort(distance)[:5]  #top 5 results\n",
        "  scores = [(distance[id], gallery_paths[id]) for id in ids] #rank the results\n",
        "  return (ids, scores)"
      ],
      "execution_count": null,
      "outputs": []
    },
    {
      "cell_type": "code",
      "metadata": {
        "colab": {
          "base_uri": "https://localhost:8080/"
        },
        "id": "ziuoBFFkMRSG",
        "outputId": "92822670-58a6-4a67-8aae-705cbbb2094e"
      },
      "source": [
        "match_img(query_features[25])"
      ],
      "execution_count": null,
      "outputs": [
        {
          "output_type": "execute_result",
          "data": {
            "text/plain": [
              "(array([82, 80, 78, 76, 77]),\n",
              " [(0.5451745, 'drive/MyDrive/dataset/validation/gallery/2/ec50k_00020009.jpg'),\n",
              "  (0.5518743, 'drive/MyDrive/dataset/validation/gallery/2/ec50k_00020006.jpg'),\n",
              "  (0.5541407, 'drive/MyDrive/dataset/validation/gallery/2/ec50k_00020010.jpg'),\n",
              "  (0.57228243,\n",
              "   'drive/MyDrive/dataset/validation/gallery/2/ec50k_00020008.jpg'),\n",
              "  (0.5747797,\n",
              "   'drive/MyDrive/dataset/validation/gallery/2/ec50k_00020013.jpg')])"
            ]
          },
          "metadata": {},
          "execution_count": 17
        }
      ]
    },
    {
      "cell_type": "code",
      "metadata": {
        "colab": {
          "base_uri": "https://localhost:8080/",
          "height": 341
        },
        "id": "oL1flYhDTrYw",
        "outputId": "78d67e2a-b423-47ff-fd80-7b15177b921a"
      },
      "source": [
        "import matplotlib.pyplot as plt\n",
        "import cv2\n",
        "plt.figure(figsize = (5,5))\n",
        "img = cv2.imread(query_paths[25])\n",
        "img = cv2.cvtColor(img, cv2.COLOR_BGR2RGB)\n",
        "plt.imshow(img)\n",
        "\n",
        "#This image is matched with gallery/2, which is correct :)"
      ],
      "execution_count": null,
      "outputs": [
        {
          "output_type": "execute_result",
          "data": {
            "text/plain": [
              "<matplotlib.image.AxesImage at 0x7f08321a3f10>"
            ]
          },
          "metadata": {},
          "execution_count": 19
        },
        {
          "output_type": "display_data",
          "data": {
            "text/plain": [
              "<Figure size 360x360 with 1 Axes>"
            ],
            "image/png": "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\n"
          },
          "metadata": {
            "needs_background": "light"
          }
        }
      ]
    },
   
    
    {
      "cell_type": "code",
      "metadata": {
        "colab": {
          "base_uri": "https://localhost:8080/",
          "height": 225
        },
        "id": "z-csunD5kLFQ",
        "outputId": "7326b070-7740-488b-b33e-3d0f6a136a16"
      },
      "source": [
        "import matplotlib.pyplot as plt\n",
        "import cv2\n",
        "plt.figure(figsize = (5,5))\n",
        "img = cv2.imread(query_paths[40])\n",
        "img = cv2.cvtColor(img, cv2.COLOR_BGR2RGB)\n",
        "plt.imshow(img)\n"
      ],
      "execution_count": null,
      
    }
  ]
}
